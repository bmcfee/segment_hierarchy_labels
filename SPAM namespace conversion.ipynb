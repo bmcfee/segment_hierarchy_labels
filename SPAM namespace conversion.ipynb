{
 "cells": [
  {
   "cell_type": "code",
   "execution_count": 83,
   "metadata": {
    "collapsed": true
   },
   "outputs": [],
   "source": [
    "from collections import defaultdict\n",
    "from joblib import Parallel, delayed\n",
    "import pandas as pd\n",
    "from tqdm import tqdm\n",
    "import os"
   ]
  },
  {
   "cell_type": "code",
   "execution_count": 84,
   "metadata": {
    "collapsed": false
   },
   "outputs": [],
   "source": [
    "import jams"
   ]
  },
  {
   "cell_type": "code",
   "execution_count": 85,
   "metadata": {
    "collapsed": false
   },
   "outputs": [
    {
     "name": "stdout",
     "output_type": "stream",
     "text": [
      "0.2.1\n"
     ]
    }
   ],
   "source": [
    "print(jams.__version__)"
   ]
  },
  {
   "cell_type": "code",
   "execution_count": 86,
   "metadata": {
    "collapsed": true
   },
   "outputs": [],
   "source": [
    "def merge_annotations(upper=None, lower=None):\n",
    "    \n",
    "    ann = jams.Annotation(namespace='multi_segment',\n",
    "                          annotation_metadata=upper.annotation_metadata)\n",
    "    \n",
    "    try:\n",
    "        ann.sandbox.update(**upper.sandbox)\n",
    "    except AttributeError:\n",
    "        pass\n",
    "    \n",
    "    try:\n",
    "        ann.sandbox.update(**lower.sandbox)\n",
    "    except AttributeError:\n",
    "        pass\n",
    "    \n",
    "    # Add the uppers\n",
    "    d_upper = upper.data.copy()\n",
    "    d_upper['value'] = [{'label': _, 'level': 0} for _ in d_upper['value']]\n",
    "    \n",
    "    # Add the lowers\n",
    "    d_lower = lower.data.copy()\n",
    "    d_lower['value'] = [{'label': _, 'level': 1} for _ in d_lower['value']]\n",
    "    \n",
    "    ann.data = jams.JamsFrame.from_dataframe(pd.concat([d_upper, d_lower], ignore_index=True))\n",
    "    \n",
    "    return ann\n",
    "    \n",
    "    \n",
    "def convert_jams(jamsfile):\n",
    "    \n",
    "    J = jams.load(jamsfile)\n",
    "    \n",
    "    ann_dict = defaultdict(dict)\n",
    "    \n",
    "    for upper in J.search(namespace='segment_salami_upper'):\n",
    "        name = upper.annotation_metadata.annotator.name\n",
    "        ann_dict[name]['upper'] = upper\n",
    "        \n",
    "    for lower in J.search(namespace='segment_salami_lower'):\n",
    "        name = lower.annotation_metadata.annotator.name\n",
    "        ann_dict[name]['lower'] = lower\n",
    "    \n",
    "    for key in ann_dict:\n",
    "        J.annotations.append(merge_annotations(**ann_dict[key]))\n",
    "        \n",
    "    return J"
   ]
  },
  {
   "cell_type": "code",
   "execution_count": 88,
   "metadata": {
    "collapsed": true
   },
   "outputs": [],
   "source": [
    "files = jams.util.find_with_extension('/home/bmcfee/git/msaf-data/SPAM/references/', 'jams')\n",
    "outdir = '/home/bmcfee/git/segment_hierarchy_labels/data/'"
   ]
  },
  {
   "cell_type": "code",
   "execution_count": 90,
   "metadata": {
    "collapsed": false
   },
   "outputs": [
    {
     "name": "stderr",
     "output_type": "stream",
     "text": []
    }
   ],
   "source": [
    "for fn in tqdm(files):\n",
    "    J = convert_jams(fn)\n",
    "    J.save(os.path.join(outdir, os.path.basename(fn)))"
   ]
  }
 ],
 "metadata": {
  "kernelspec": {
   "display_name": "Python 3.5",
   "language": "python",
   "name": "python3.5"
  },
  "language_info": {
   "codemirror_mode": {
    "name": "ipython",
    "version": 3
   },
   "file_extension": ".py",
   "mimetype": "text/x-python",
   "name": "python",
   "nbconvert_exporter": "python",
   "pygments_lexer": "ipython3",
   "version": "3.5.0"
  },
  "widgets": {
   "state": {},
   "version": "1.1.1"
  }
 },
 "nbformat": 4,
 "nbformat_minor": 0
}
