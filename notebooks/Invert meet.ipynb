{
 "cells": [
  {
   "cell_type": "markdown",
   "metadata": {},
   "source": [
    "# Is there such a thing as a central hierarchy?\n",
    "\n",
    "Given two heirarchical annotations $x_1, x_2$ of the same piece, is it possible to derive a centroid $x_{1/2}$ that maximizes the sum of similarities $L(x_1, x_{1/2}) + L(x_2, x_{1/2})$?\n",
    "\n",
    "Recall that $L$ is defined by counting discordant triples $(q, i, j)$ between $x_1$ and $x_2$; equivalent, we can count concordant triples.  This can be explictily calculated by mapping each $x$ to a $O(n^3)$-dimensional binary vector $\\phi(x)$, where\n",
    "$$\n",
    "\\phi(x)_{q,i,j} = \\begin{cases}\n",
    "1 & x_{qi} < x_{qj}\\\\\n",
    "0 & \\text{otherwise}\n",
    "\\end{cases}\n",
    "$$\n",
    "then the L-measure can be computed by $\\langle \\phi(x_1), \\phi(x_2) \\rangle$ and normalizing appropriately."
   ]
  },
  {
   "cell_type": "code",
   "execution_count": null,
   "metadata": {
    "collapsed": true
   },
   "outputs": [],
   "source": []
  }
 ],
 "metadata": {
  "kernelspec": {
   "display_name": "Python 3.5",
   "language": "python",
   "name": "python3.5"
  },
  "language_info": {
   "codemirror_mode": {
    "name": "ipython",
    "version": 3
   },
   "file_extension": ".py",
   "mimetype": "text/x-python",
   "name": "python",
   "nbconvert_exporter": "python",
   "pygments_lexer": "ipython3",
   "version": "3.5.0"
  },
  "widgets": {
   "state": {},
   "version": "1.1.2"
  }
 },
 "nbformat": 4,
 "nbformat_minor": 0
}
