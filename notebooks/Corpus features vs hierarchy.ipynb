{
 "cells": [
  {
   "cell_type": "code",
   "execution_count": 44,
   "metadata": {
    "collapsed": false
   },
   "outputs": [],
   "source": [
    "import numpy as np\n",
    "import librosa\n",
    "import librosa.display\n",
    "import matplotlib.pyplot as plt\n",
    "%matplotlib inline\n",
    "import jams\n",
    "import jams.display\n",
    "import mir_eval\n",
    "import pandas as pd\n",
    "import os\n",
    "import scipy\n",
    "from joblib import Parallel, delayed"
   ]
  },
  {
   "cell_type": "code",
   "execution_count": 23,
   "metadata": {
    "collapsed": true
   },
   "outputs": [],
   "source": [
    "def selfsim(x, metric='sqeuclidean'):\n",
    "    \n",
    "    D = scipy.spatial.distance.cdist(x.T, x.T, metric=metric)\n",
    "    bw = np.mean(np.median(D, axis=1))\n",
    "    \n",
    "    return np.exp(-D / bw)\n",
    "\n",
    "def simsim(A, B):\n",
    "    '''Calculates the cross-correlation between two square matrices A and B'''\n",
    "    n = min(len(A), len(B))\n",
    "    \n",
    "    A = A[:n, :n] - np.mean(A[:n, :n])\n",
    "    B = B[:n, :n] - np.mean(B[:n, :n])\n",
    "    \n",
    "    anorm = np.sqrt(np.sum(A[:n,:n]**2))\n",
    "    bnorm = np.sqrt(np.sum(B[:n,:n]**2))\n",
    "    \n",
    "    return np.sum(A[:n, :n] * B[:n, :n]) / (anorm * bnorm)"
   ]
  },
  {
   "cell_type": "code",
   "execution_count": 39,
   "metadata": {
    "collapsed": true
   },
   "outputs": [],
   "source": [
    "def compare_data(jam_file, feature):\n",
    "    \n",
    "    jam = jams.load(jam_file)\n",
    "    \n",
    "    F = np.load(feature)\n",
    "    \n",
    "    # Compute feature self-similarity matrices\n",
    "    S = dict()\n",
    "    \n",
    "    S['tempo'] = selfsim(F['tempo'])\n",
    "    S['rhythm'] = selfsim(librosa.logamplitude(F['rhythm']**2, ref_power=np.max))\n",
    "    S['chroma'] = selfsim(F['chroma'])\n",
    "    S['mfcc'] = selfsim(F['mfcc'])\n",
    "    \n",
    "    anns = jam.annotations['multi']\n",
    "    \n",
    "    results = []\n",
    "    track = os.path.basename(jam_file)\n",
    "    \n",
    "    for ann in anns:\n",
    "        # Build the annotation self-similarity matrix\n",
    "        h_ints, h_labs = jams.eval.hierarchy_flatten(ann)\n",
    "        h_sim = np.asarray(mir_eval.hierarchy._meet(h_ints, h_labs, 0.25).todense())\n",
    "        \n",
    "        #v = [simsim(h_sim, A) for A in [A_tempo, A_rhythm, A_chroma, A_mfcc]]\n",
    "        v = {key: simsim(h_sim, S[key]) for key in S}\n",
    "        v['track'] = track\n",
    "        v['annotator'] = ann.annotation_metadata.annotator.name\n",
    "        \n",
    "        results.append(v)\n",
    "    return results"
   ]
  },
  {
   "cell_type": "code",
   "execution_count": 2,
   "metadata": {
    "collapsed": true
   },
   "outputs": [],
   "source": [
    "annotations = dict()\n",
    "annotations['salami'] = jams.util.find_with_extension('../data/SALAMI/', 'jams')\n",
    "annotations['spam'] = jams.util.find_with_extension('../data/SPAM/', 'jams')"
   ]
  },
  {
   "cell_type": "code",
   "execution_count": 4,
   "metadata": {
    "collapsed": true
   },
   "outputs": [],
   "source": [
    "features = dict()\n",
    "features['salami'] = jams.util.find_with_extension('../../../working/segment_labels_features/SALAMI/', 'npz')\n",
    "features['spam'] = jams.util.find_with_extension('../../../working/segment_labels_features/SPAM/', 'npz')"
   ]
  },
  {
   "cell_type": "code",
   "execution_count": 20,
   "metadata": {
    "collapsed": false
   },
   "outputs": [],
   "source": [
    "data = dict()\n",
    "data['salami'] = {J: os.path.join('../../../working/segment_labels_features/SALAMI/',\n",
    "                                      os.extsep.join([os.path.splitext(os.path.basename(J))[0], 'npz']))\n",
    "                  for J in annotations['salami']}\n",
    "\n",
    "data['spam'] = {J:A for J,A in zip(annotations['spam'], features['spam'])}"
   ]
  },
  {
   "cell_type": "code",
   "execution_count": 40,
   "metadata": {
    "collapsed": false
   },
   "outputs": [],
   "source": [
    "my_features = compare_data(j1, data['salami'][j1])"
   ]
  },
  {
   "cell_type": "code",
   "execution_count": 43,
   "metadata": {
    "collapsed": false
   },
   "outputs": [
    {
     "data": {
      "text/html": [
       "<div>\n",
       "<table border=\"1\" class=\"dataframe\">\n",
       "  <thead>\n",
       "    <tr style=\"text-align: right;\">\n",
       "      <th></th>\n",
       "      <th>annotator</th>\n",
       "      <th>chroma</th>\n",
       "      <th>mfcc</th>\n",
       "      <th>rhythm</th>\n",
       "      <th>tempo</th>\n",
       "      <th>track</th>\n",
       "    </tr>\n",
       "  </thead>\n",
       "  <tbody>\n",
       "    <tr>\n",
       "      <th>0</th>\n",
       "      <td>2</td>\n",
       "      <td>0.208846</td>\n",
       "      <td>0.167999</td>\n",
       "      <td>0.333380</td>\n",
       "      <td>0.253913</td>\n",
       "      <td>130.jams</td>\n",
       "    </tr>\n",
       "    <tr>\n",
       "      <th>1</th>\n",
       "      <td>5</td>\n",
       "      <td>0.138957</td>\n",
       "      <td>0.170327</td>\n",
       "      <td>0.356274</td>\n",
       "      <td>0.214609</td>\n",
       "      <td>130.jams</td>\n",
       "    </tr>\n",
       "  </tbody>\n",
       "</table>\n",
       "</div>"
      ],
      "text/plain": [
       "  annotator    chroma      mfcc    rhythm     tempo     track\n",
       "0         2  0.208846  0.167999  0.333380  0.253913  130.jams\n",
       "1         5  0.138957  0.170327  0.356274  0.214609  130.jams"
      ]
     },
     "execution_count": 43,
     "metadata": {},
     "output_type": "execute_result"
    }
   ],
   "source": [
    "pd.DataFrame.from_records(my_features)"
   ]
  },
  {
   "cell_type": "code",
   "execution_count": 45,
   "metadata": {
    "collapsed": true
   },
   "outputs": [],
   "source": [
    "feature_sim = dict()"
   ]
  },
  {
   "cell_type": "code",
   "execution_count": 46,
   "metadata": {
    "collapsed": false
   },
   "outputs": [
    {
     "name": "stderr",
     "output_type": "stream",
     "text": [
      "[Parallel(n_jobs=20)]: Done  10 tasks      | elapsed:    3.0s\n",
      "[Parallel(n_jobs=20)]: Done  50 out of  50 | elapsed:   15.8s finished\n"
     ]
    }
   ],
   "source": [
    "feature_sim['spam'] = Parallel(n_jobs=20, verbose=1)(delayed(compare_data)(jf, data['spam'][jf]) for jf in data['spam'])"
   ]
  },
  {
   "cell_type": "code",
   "execution_count": 54,
   "metadata": {
    "collapsed": false
   },
   "outputs": [
    {
     "name": "stderr",
     "output_type": "stream",
     "text": [
      "[Parallel(n_jobs=20)]: Done  10 tasks      | elapsed:    0.9s\n",
      "[Parallel(n_jobs=20)]: Done 195 tasks      | elapsed:   20.8s\n",
      "[Parallel(n_jobs=20)]: Done 445 tasks      | elapsed:   47.5s\n",
      "[Parallel(n_jobs=20)]: Done 796 tasks      | elapsed:  1.5min\n",
      "[Parallel(n_jobs=20)]: Done 1246 tasks      | elapsed:  2.3min\n",
      "[Parallel(n_jobs=20)]: Done 1359 out of 1359 | elapsed:  3.1min finished\n"
     ]
    }
   ],
   "source": [
    "feature_sim['salami'] = Parallel(n_jobs=20, verbose=1)(delayed(compare_data)(jf, data['salami'][jf]) for jf in data['salami'])"
   ]
  },
  {
   "cell_type": "code",
   "execution_count": 52,
   "metadata": {
    "collapsed": false
   },
   "outputs": [],
   "source": [
    "df_spam = pd.DataFrame.from_records([item for sublist in feature_sim['spam'] for item in sublist])"
   ]
  },
  {
   "cell_type": "code",
   "execution_count": 55,
   "metadata": {
    "collapsed": true
   },
   "outputs": [],
   "source": [
    "df_salami = pd.DataFrame.from_records([item for sublist in feature_sim['salami'] for item in sublist])"
   ]
  },
  {
   "cell_type": "code",
   "execution_count": 57,
   "metadata": {
    "collapsed": false
   },
   "outputs": [],
   "source": [
    "df_salami.to_json('../data/salami_feature_correlations.json')"
   ]
  },
  {
   "cell_type": "code",
   "execution_count": 58,
   "metadata": {
    "collapsed": true
   },
   "outputs": [],
   "source": [
    "df_spam.to_json('../data/spam_feature_correlations.json')"
   ]
  },
  {
   "cell_type": "code",
   "execution_count": null,
   "metadata": {
    "collapsed": true
   },
   "outputs": [],
   "source": []
  }
 ],
 "metadata": {
  "anaconda-cloud": {},
  "kernelspec": {
   "display_name": "Python [conda env:py35]",
   "language": "python",
   "name": "conda-env-py35-py"
  },
  "language_info": {
   "codemirror_mode": {
    "name": "ipython",
    "version": 3
   },
   "file_extension": ".py",
   "mimetype": "text/x-python",
   "name": "python",
   "nbconvert_exporter": "python",
   "pygments_lexer": "ipython3",
   "version": "3.5.2"
  }
 },
 "nbformat": 4,
 "nbformat_minor": 1
}
